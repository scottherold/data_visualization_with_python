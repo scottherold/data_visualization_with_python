{
 "cells": [
  {
   "cell_type": "code",
   "execution_count": 2,
   "metadata": {},
   "outputs": [],
   "source": [
    "import numpy as np\n",
    "import pandas as pd\n",
    "import matplotlib.pyplot as plt"
   ]
  },
  {
   "cell_type": "code",
   "execution_count": 3,
   "metadata": {},
   "outputs": [],
   "source": [
    "%matplotlib inline"
   ]
  },
  {
   "cell_type": "code",
   "execution_count": 7,
   "metadata": {},
   "outputs": [],
   "source": [
    "data = pd.read_csv('Local_Area_Unemployment_Statistics__Beginning_1976.csv')"
   ]
  },
  {
   "cell_type": "code",
   "execution_count": 9,
   "metadata": {},
   "outputs": [
    {
     "data": {
      "text/html": [
       "<div>\n",
       "<style scoped>\n",
       "    .dataframe tbody tr th:only-of-type {\n",
       "        vertical-align: middle;\n",
       "    }\n",
       "\n",
       "    .dataframe tbody tr th {\n",
       "        vertical-align: top;\n",
       "    }\n",
       "\n",
       "    .dataframe thead th {\n",
       "        text-align: right;\n",
       "    }\n",
       "</style>\n",
       "<table border=\"1\" class=\"dataframe\">\n",
       "  <thead>\n",
       "    <tr style=\"text-align: right;\">\n",
       "      <th></th>\n",
       "      <th>Area</th>\n",
       "      <th>Year</th>\n",
       "      <th>Month</th>\n",
       "      <th>Labor Force</th>\n",
       "      <th>Employed</th>\n",
       "      <th>Unemployed</th>\n",
       "      <th>Unemployment Rate</th>\n",
       "      <th>date</th>\n",
       "    </tr>\n",
       "  </thead>\n",
       "  <tbody>\n",
       "    <tr>\n",
       "      <th>519</th>\n",
       "      <td>New York State</td>\n",
       "      <td>1976</td>\n",
       "      <td>1</td>\n",
       "      <td>7634700</td>\n",
       "      <td>6780200</td>\n",
       "      <td>854400</td>\n",
       "      <td>11.2</td>\n",
       "      <td>1976-01-01</td>\n",
       "    </tr>\n",
       "    <tr>\n",
       "      <th>44850</th>\n",
       "      <td>BALANCE OF STATE</td>\n",
       "      <td>1976</td>\n",
       "      <td>1</td>\n",
       "      <td>4520500</td>\n",
       "      <td>4023100</td>\n",
       "      <td>497400</td>\n",
       "      <td>11.0</td>\n",
       "      <td>1976-01-01</td>\n",
       "    </tr>\n",
       "    <tr>\n",
       "      <th>25734</th>\n",
       "      <td>New York City</td>\n",
       "      <td>1976</td>\n",
       "      <td>1</td>\n",
       "      <td>3114200</td>\n",
       "      <td>2757200</td>\n",
       "      <td>357000</td>\n",
       "      <td>11.5</td>\n",
       "      <td>1976-01-01</td>\n",
       "    </tr>\n",
       "    <tr>\n",
       "      <th>42141</th>\n",
       "      <td>New York City</td>\n",
       "      <td>1976</td>\n",
       "      <td>1</td>\n",
       "      <td>3114200</td>\n",
       "      <td>2757200</td>\n",
       "      <td>357000</td>\n",
       "      <td>11.5</td>\n",
       "      <td>1976-01-01</td>\n",
       "    </tr>\n",
       "    <tr>\n",
       "      <th>520</th>\n",
       "      <td>New York State</td>\n",
       "      <td>1976</td>\n",
       "      <td>2</td>\n",
       "      <td>7623500</td>\n",
       "      <td>6769500</td>\n",
       "      <td>854000</td>\n",
       "      <td>11.2</td>\n",
       "      <td>1976-02-01</td>\n",
       "    </tr>\n",
       "  </tbody>\n",
       "</table>\n",
       "</div>"
      ],
      "text/plain": [
       "                   Area  Year  Month  Labor Force  Employed  Unemployed  \\\n",
       "519      New York State  1976      1      7634700   6780200      854400   \n",
       "44850  BALANCE OF STATE  1976      1      4520500   4023100      497400   \n",
       "25734     New York City  1976      1      3114200   2757200      357000   \n",
       "42141     New York City  1976      1      3114200   2757200      357000   \n",
       "520      New York State  1976      2      7623500   6769500      854000   \n",
       "\n",
       "       Unemployment Rate                                                                                                                                                                        \\\n",
       "519                                                 11.2                                                                                                                                         \n",
       "44850                                               11.0                                                                                                                                         \n",
       "25734                                               11.5                                                                                                                                         \n",
       "42141                                               11.5                                                                                                                                         \n",
       "520                                                 11.2                                                                                                                                         \n",
       "\n",
       "            date  \n",
       "519   1976-01-01  \n",
       "44850 1976-01-01  \n",
       "25734 1976-01-01  \n",
       "42141 1976-01-01  \n",
       "520   1976-02-01  "
      ]
     },
     "execution_count": 9,
     "metadata": {},
     "output_type": "execute_result"
    }
   ],
   "source": [
    "# create date column at end of dataframe\n",
    "# axis = 1 uses columns instead of rows\n",
    "dates = data.apply(lambda x: pd.Timestamp('%d-%d-01' % (x.Year, x.Month)), axis=1)\n",
    "d = pd.concat((data, pd.DataFrame({'date': dates})), axis=1)\n",
    "d = d.sort_values(by='date')\n",
    "d[:5]"
   ]
  },
  {
   "cell_type": "code",
   "execution_count": 10,
   "metadata": {},
   "outputs": [],
   "source": [
    "# Get different areas\n",
    "nyc = d[d.Area == 'New York City']\n",
    "nys = d[d.Area == 'New York State']\n",
    "buf = d[d.Area == 'Buffalo']"
   ]
  },
  {
   "cell_type": "code",
   "execution_count": null,
   "metadata": {},
   "outputs": [],
   "source": [
    "# Create chart\n",
    "plt.plot(nys.date, 100*nys['Unemployed']/nys['Labor Force'], label='New York State')\n",
    "plt.plot(nyc.date, 100*nyc['Unemployed']/nyc['Labor Force'], label='New York City')\n",
    "plt.plot(buf.date, 100*buf['Unemployed']/buf['Labor Force'], label='Buffalo')\n",
    "\n",
    "# Axis labels\n",
    "plt.xlabel('date')\n",
    "plt.ylabel('Unemployment Rate')\n",
    "\n",
    "# Generate legend\n",
    "plt.legend()"
   ]
  }
 ],
 "metadata": {
  "kernelspec": {
   "display_name": "Python 3",
   "language": "python",
   "name": "python3"
  },
  "language_info": {
   "codemirror_mode": {
    "name": "ipython",
    "version": 3
   },
   "file_extension": ".py",
   "mimetype": "text/x-python",
   "name": "python",
   "nbconvert_exporter": "python",
   "pygments_lexer": "ipython3",
   "version": "3.6.9"
  }
 },
 "nbformat": 4,
 "nbformat_minor": 2
}
