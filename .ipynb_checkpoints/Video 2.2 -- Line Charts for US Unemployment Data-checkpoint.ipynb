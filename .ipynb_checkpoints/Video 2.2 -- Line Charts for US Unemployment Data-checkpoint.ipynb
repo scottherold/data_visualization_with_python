{
 "cells": [
  {
   "cell_type": "code",
   "execution_count": 1,
   "metadata": {},
   "outputs": [],
   "source": [
    "import numpy as np\n",
    "import pandas as pd\n",
    "import matplotlib.pyplot as plt"
   ]
  },
  {
   "cell_type": "code",
   "execution_count": 2,
   "metadata": {},
   "outputs": [],
   "source": [
    "%matplotlib inline"
   ]
  },
  {
   "cell_type": "code",
   "execution_count": 3,
   "metadata": {},
   "outputs": [
    {
     "data": {
      "text/html": [
       "<div>\n",
       "<style scoped>\n",
       "    .dataframe tbody tr th:only-of-type {\n",
       "        vertical-align: middle;\n",
       "    }\n",
       "\n",
       "    .dataframe tbody tr th {\n",
       "        vertical-align: top;\n",
       "    }\n",
       "\n",
       "    .dataframe thead th {\n",
       "        text-align: right;\n",
       "    }\n",
       "</style>\n",
       "<table border=\"1\" class=\"dataframe\">\n",
       "  <thead>\n",
       "    <tr style=\"text-align: right;\">\n",
       "      <th></th>\n",
       "      <th>Area</th>\n",
       "      <th>Year</th>\n",
       "      <th>Month</th>\n",
       "      <th>Labor Force</th>\n",
       "      <th>Employed</th>\n",
       "      <th>Unemployed</th>\n",
       "      <th>Unemployment Rate</th>\n",
       "    </tr>\n",
       "  </thead>\n",
       "  <tbody>\n",
       "    <tr>\n",
       "      <th>0</th>\n",
       "      <td>New York State</td>\n",
       "      <td>2020</td>\n",
       "      <td>1</td>\n",
       "      <td>9527700</td>\n",
       "      <td>9136600</td>\n",
       "      <td>391100</td>\n",
       "      <td>4.1</td>\n",
       "    </tr>\n",
       "    <tr>\n",
       "      <th>1</th>\n",
       "      <td>New York State</td>\n",
       "      <td>2020</td>\n",
       "      <td>2</td>\n",
       "      <td>9566600</td>\n",
       "      <td>9190900</td>\n",
       "      <td>375700</td>\n",
       "      <td>3.9</td>\n",
       "    </tr>\n",
       "    <tr>\n",
       "      <th>2</th>\n",
       "      <td>New York State</td>\n",
       "      <td>2020</td>\n",
       "      <td>3</td>\n",
       "      <td>9437900</td>\n",
       "      <td>9020100</td>\n",
       "      <td>417800</td>\n",
       "      <td>4.4</td>\n",
       "    </tr>\n",
       "    <tr>\n",
       "      <th>3</th>\n",
       "      <td>New York State</td>\n",
       "      <td>2019</td>\n",
       "      <td>1</td>\n",
       "      <td>9515500</td>\n",
       "      <td>9062800</td>\n",
       "      <td>452700</td>\n",
       "      <td>4.8</td>\n",
       "    </tr>\n",
       "    <tr>\n",
       "      <th>4</th>\n",
       "      <td>New York State</td>\n",
       "      <td>2019</td>\n",
       "      <td>2</td>\n",
       "      <td>9542000</td>\n",
       "      <td>9108400</td>\n",
       "      <td>433700</td>\n",
       "      <td>4.5</td>\n",
       "    </tr>\n",
       "    <tr>\n",
       "      <th>5</th>\n",
       "      <td>New York State</td>\n",
       "      <td>2019</td>\n",
       "      <td>3</td>\n",
       "      <td>9529100</td>\n",
       "      <td>9128600</td>\n",
       "      <td>400600</td>\n",
       "      <td>4.2</td>\n",
       "    </tr>\n",
       "    <tr>\n",
       "      <th>6</th>\n",
       "      <td>New York State</td>\n",
       "      <td>2019</td>\n",
       "      <td>4</td>\n",
       "      <td>9449400</td>\n",
       "      <td>9107200</td>\n",
       "      <td>342200</td>\n",
       "      <td>3.6</td>\n",
       "    </tr>\n",
       "    <tr>\n",
       "      <th>7</th>\n",
       "      <td>New York State</td>\n",
       "      <td>2019</td>\n",
       "      <td>5</td>\n",
       "      <td>9457200</td>\n",
       "      <td>9112100</td>\n",
       "      <td>345100</td>\n",
       "      <td>3.6</td>\n",
       "    </tr>\n",
       "    <tr>\n",
       "      <th>8</th>\n",
       "      <td>New York State</td>\n",
       "      <td>2019</td>\n",
       "      <td>6</td>\n",
       "      <td>9539000</td>\n",
       "      <td>9175500</td>\n",
       "      <td>363400</td>\n",
       "      <td>3.8</td>\n",
       "    </tr>\n",
       "    <tr>\n",
       "      <th>9</th>\n",
       "      <td>New York State</td>\n",
       "      <td>2019</td>\n",
       "      <td>7</td>\n",
       "      <td>9597000</td>\n",
       "      <td>9196600</td>\n",
       "      <td>400300</td>\n",
       "      <td>4.2</td>\n",
       "    </tr>\n",
       "  </tbody>\n",
       "</table>\n",
       "</div>"
      ],
      "text/plain": [
       "             Area  Year  Month  Labor Force  Employed  Unemployed  \\\n",
       "0  New York State  2020      1      9527700   9136600      391100   \n",
       "1  New York State  2020      2      9566600   9190900      375700   \n",
       "2  New York State  2020      3      9437900   9020100      417800   \n",
       "3  New York State  2019      1      9515500   9062800      452700   \n",
       "4  New York State  2019      2      9542000   9108400      433700   \n",
       "5  New York State  2019      3      9529100   9128600      400600   \n",
       "6  New York State  2019      4      9449400   9107200      342200   \n",
       "7  New York State  2019      5      9457200   9112100      345100   \n",
       "8  New York State  2019      6      9539000   9175500      363400   \n",
       "9  New York State  2019      7      9597000   9196600      400300   \n",
       "\n",
       "   Unemployment Rate                                                                                                                                                                        \n",
       "0                                                4.1                                                                                                                                        \n",
       "1                                                3.9                                                                                                                                        \n",
       "2                                                4.4                                                                                                                                        \n",
       "3                                                4.8                                                                                                                                        \n",
       "4                                                4.5                                                                                                                                        \n",
       "5                                                4.2                                                                                                                                        \n",
       "6                                                3.6                                                                                                                                        \n",
       "7                                                3.6                                                                                                                                        \n",
       "8                                                3.8                                                                                                                                        \n",
       "9                                                4.2                                                                                                                                        "
      ]
     },
     "execution_count": 3,
     "metadata": {},
     "output_type": "execute_result"
    }
   ],
   "source": [
    "data = pd.read_csv('Local_Area_Unemployment_Statistics__Beginning_1976.csv')\n",
    "data[:10]"
   ]
  },
  {
   "cell_type": "code",
   "execution_count": 11,
   "metadata": {},
   "outputs": [],
   "source": [
    "# Creates a timestamp for the data with a year and month\n",
    "dates = data.apply(lambda x: pd.Timestamp('%d-%d-01' % (x.Year, x.Month)), axis=1)\n",
    "# Concatenates the new column with the header 'dates'\n",
    "d = pd.concat((data, pd.DataFrame({'date': dates})), axis=1)"
   ]
  },
  {
   "cell_type": "code",
   "execution_count": 14,
   "metadata": {},
   "outputs": [],
   "source": [
    "# Plot NY State Labor Force, Employed, and Unemployed\n",
    "ny = d[d.Area == 'New York State']\n",
    "# Removes average value lines\n",
    "ny = ny.sort_values(by='date')"
   ]
  },
  {
   "cell_type": "code",
   "execution_count": 21,
   "metadata": {},
   "outputs": [
    {
     "data": {
      "text/plain": [
       "Text(0,0.5,'Number of People')"
      ]
     },
     "execution_count": 21,
     "metadata": {},
     "output_type": "execute_result"
    },
    {
     "data": {
      "image/png": "[encoded data removed]",
      "text/plain": [
       "<matplotlib.figure.Figure at 0x7f6c07a8bf28>"
      ]
     },
     "metadata": {
      "needs_background": "light"
     },
     "output_type": "display_data"
    }
   ],
   "source": [
    "# Creates the plot\n",
    "plt.plot(ny.date, ny['Labor Force'], label='Labor Force')\n",
    "plt.plot(ny.date, ny['Employed'], label='Employed')\n",
    "plt.plot(ny.date, ny['Unemployed'], label='Unemployed')\n",
    "\n",
    "# Adds leged\n",
    "# loc='best' allows for the legend to be placed in what the CPU determines is the best location\n",
    "# based on the graph (this is default in the most recent version)\n",
    "plt.legend(loc='best')\n",
    "\n",
    "# labels for x/y axis\n",
    "plt.xlabel('date')\n",
    "plt.ylabel('Number of People')"
   ]
  },
  {
   "cell_type": "code",
   "execution_count": null,
   "metadata": {},
   "outputs": [],
   "source": []
  }
 ],
 "metadata": {
  "kernelspec": {
   "display_name": "Python 3",
   "language": "python",
   "name": "python3"
  },
  "language_info": {
   "codemirror_mode": {
    "name": "ipython",
    "version": 3
   },
   "file_extension": ".py",
   "mimetype": "text/x-python",
   "name": "python",
   "nbconvert_exporter": "python",
   "pygments_lexer": "ipython3",
   "version": "3.6.9"
  }
 },
 "nbformat": 4,
 "nbformat_minor": 2
}
