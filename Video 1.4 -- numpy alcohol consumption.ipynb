{
 "cells": [
  {
   "cell_type": "code",
   "execution_count": 8,
   "metadata": {},
   "outputs": [],
   "source": [
    "# import numpy\n",
    "import numpy as np"
   ]
  },
  {
   "cell_type": "code",
   "execution_count": 9,
   "metadata": {},
   "outputs": [
    {
     "name": "stdout",
     "output_type": "stream",
     "text": [
      "country,beer_servings,spirit_servings,wine_servings,total_litres_of_pure_alcohol\r\n",
      "Afghanistan,0,0,0,0.0\r\n",
      "Albania,89,132,54,4.9\r\n",
      "Algeria,25,0,14,0.7\r\n",
      "Andorra,245,138,312,12.4\r\n",
      "Angola,217,57,45,5.9\r\n",
      "Antigua & Barbuda,102,128,45,4.9\r\n",
      "Argentina,193,25,221,8.3\r\n",
      "Armenia,21,179,11,3.8\r\n",
      "Australia,261,72,212,10.4\r\n"
     ]
    }
   ],
   "source": [
    "# sets data -- sample for first 10 lines\n",
    "!head drinks.csv"
   ]
  },
  {
   "cell_type": "code",
   "execution_count": 10,
   "metadata": {},
   "outputs": [],
   "source": [
    "# load data\n",
    "dtype = dict(names=('country','beer','spirit','wine','total'),\n",
    "            formats=('S64','f','f','f','f'))\n",
    "# sets data file, delimeter, the data type, and skips the first row (headers)\n",
    "booze = np.loadtxt(\"drinks.csv\", delimiter=',', dtype=dtype, skiprows=1)"
   ]
  },
  {
   "cell_type": "code",
   "execution_count": 11,
   "metadata": {},
   "outputs": [
    {
     "data": {
      "text/plain": [
       "array([(b'Canada',  240.,  122.,  100.,  8.19999981)],\n",
       "      dtype=[('country', 'S64'), ('beer', '<f4'), ('spirit', '<f4'), ('wine', '<f4'), ('total', '<f4')])"
      ]
     },
     "execution_count": 11,
     "metadata": {},
     "output_type": "execute_result"
    }
   ],
   "source": [
    "# Select data by country\n",
    "booze[np.where(booze['country'] == b'Canada')]"
   ]
  },
  {
   "cell_type": "code",
   "execution_count": 13,
   "metadata": {},
   "outputs": [
    {
     "data": {
      "text/plain": [
       "array([(b'Afghanistan',  0.,  0.,  0.,  0.),\n",
       "       (b'Bangladesh',  0.,  0.,  0.,  0.),\n",
       "       (b'North Korea',  0.,  0.,  0.,  0.), (b'Iran',  0.,  0.,  0.,  0.),\n",
       "       (b'Kuwait',  0.,  0.,  0.,  0.), (b'Libya',  0.,  0.,  0.,  0.),\n",
       "       (b'Maldives',  0.,  0.,  0.,  0.),\n",
       "       (b'Marshall Islands',  0.,  0.,  0.,  0.),\n",
       "       (b'Mauritania',  0.,  0.,  0.,  0.),\n",
       "       (b'Monaco',  0.,  0.,  0.,  0.), (b'Pakistan',  0.,  0.,  0.,  0.),\n",
       "       (b'San Marino',  0.,  0.,  0.,  0.),\n",
       "       (b'Somalia',  0.,  0.,  0.,  0.)],\n",
       "      dtype=[('country', 'S64'), ('beer', '<f4'), ('spirit', '<f4'), ('wine', '<f4'), ('total', '<f4')])"
      ]
     },
     "execution_count": 13,
     "metadata": {},
     "output_type": "execute_result"
    }
   ],
   "source": [
    "# Select data teetotal countries\n",
    "booze[np.where(booze['total'] == 0)]"
   ]
  },
  {
   "cell_type": "code",
   "execution_count": 16,
   "metadata": {},
   "outputs": [
    {
     "data": {
      "text/plain": [
       "array([(b'Belarus',  142.,  373.,  42.,  14.39999962)],\n",
       "      dtype=[('country', 'S64'), ('beer', '<f4'), ('spirit', '<f4'), ('wine', '<f4'), ('total', '<f4')])"
      ]
     },
     "execution_count": 16,
     "metadata": {},
     "output_type": "execute_result"
    }
   ],
   "source": [
    "# Who drinks the most?\n",
    "booze[np.where(booze['total'] == np.max(booze['total']))]"
   ]
  },
  {
   "cell_type": "code",
   "execution_count": 17,
   "metadata": {},
   "outputs": [
    {
     "data": {
      "text/plain": [
       "4.7170987"
      ]
     },
     "execution_count": 17,
     "metadata": {},
     "output_type": "execute_result"
    }
   ],
   "source": [
    "# What is the average amount consumed?\n",
    "np.mean(booze['total'])"
   ]
  },
  {
   "cell_type": "code",
   "execution_count": 18,
   "metadata": {},
   "outputs": [
    {
     "data": {
      "text/plain": [
       "3.76351"
      ]
     },
     "execution_count": 18,
     "metadata": {},
     "output_type": "execute_result"
    }
   ],
   "source": [
    "# How much variation in the amount consumed?\n",
    "np.std(booze['total'])"
   ]
  },
  {
   "cell_type": "code",
   "execution_count": null,
   "metadata": {},
   "outputs": [],
   "source": []
  }
 ],
 "metadata": {
  "kernelspec": {
   "display_name": "Python 3",
   "language": "python",
   "name": "python3"
  },
  "language_info": {
   "codemirror_mode": {
    "name": "ipython",
    "version": 3
   },
   "file_extension": ".py",
   "mimetype": "text/x-python",
   "name": "python",
   "nbconvert_exporter": "python",
   "pygments_lexer": "ipython3",
   "version": "3.6.9"
  }
 },
 "nbformat": 4,
 "nbformat_minor": 2
}
